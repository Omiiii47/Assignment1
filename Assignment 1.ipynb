{
 "cells": [
  {
   "cell_type": "markdown",
   "id": "6ddc1e2d-18f4-40a2-8eb7-d4ce6e5df791",
   "metadata": {},
   "source": [
    "Question 1"
   ]
  },
  {
   "cell_type": "code",
   "execution_count": 6,
   "id": "1b170d30-1ebc-42b3-9504-3609057e2a4f",
   "metadata": {},
   "outputs": [],
   "source": [
    "str = \"om naik\""
   ]
  },
  {
   "cell_type": "code",
   "execution_count": 39,
   "id": "afbef68a-8dd0-41a0-a477-92bcd80a3ddf",
   "metadata": {},
   "outputs": [
    {
     "data": {
      "text/plain": [
       "str"
      ]
     },
     "execution_count": 39,
     "metadata": {},
     "output_type": "execute_result"
    }
   ],
   "source": [
    "type(str)"
   ]
  },
  {
   "cell_type": "code",
   "execution_count": 8,
   "id": "b83ae622-ce02-48dd-9976-ca566e819100",
   "metadata": {},
   "outputs": [
    {
     "data": {
      "text/plain": [
       "['om naik', 454.343, (34234+4342j), 'skills']"
      ]
     },
     "execution_count": 8,
     "metadata": {},
     "output_type": "execute_result"
    }
   ],
   "source": [
    "l = [\"om naik\", 454.343, 34234 + 4342j, \"skills\"]"
   ]
  },
  {
   "cell_type": "code",
   "execution_count": 10,
   "id": "f8d8baec-fc52-4e66-9f53-aa6758f4ff58",
   "metadata": {},
   "outputs": [
    {
     "data": {
      "text/plain": [
       "list"
      ]
     },
     "execution_count": 10,
     "metadata": {},
     "output_type": "execute_result"
    }
   ],
   "source": [
    "type(l)"
   ]
  },
  {
   "cell_type": "code",
   "execution_count": 11,
   "id": "48014394-01ac-4944-a719-37ce04dda2af",
   "metadata": {},
   "outputs": [],
   "source": [
    "a= 3453.453"
   ]
  },
  {
   "cell_type": "code",
   "execution_count": 12,
   "id": "c559e690-1979-4e9e-b48a-46ebb6514db8",
   "metadata": {},
   "outputs": [
    {
     "data": {
      "text/plain": [
       "float"
      ]
     },
     "execution_count": 12,
     "metadata": {},
     "output_type": "execute_result"
    }
   ],
   "source": [
    "type(a)"
   ]
  },
  {
   "cell_type": "code",
   "execution_count": 13,
   "id": "6663a7da-2c68-441c-847e-93a764a5c000",
   "metadata": {},
   "outputs": [],
   "source": []
  },
  {
   "cell_type": "markdown",
   "id": "ea9475d7-355a-4d00-ae68-35a04578544f",
   "metadata": {},
   "source": [
    "Question 2\n"
   ]
  },
  {
   "cell_type": "code",
   "execution_count": 15,
   "id": "89b93e06-54da-47ee-a1c4-a1c183282256",
   "metadata": {},
   "outputs": [],
   "source": [
    "var1 = \"\""
   ]
  },
  {
   "cell_type": "code",
   "execution_count": 16,
   "id": "0a89c781-12d6-46d4-96af-edc52c6143b3",
   "metadata": {},
   "outputs": [
    {
     "data": {
      "text/plain": [
       "str"
      ]
     },
     "execution_count": 16,
     "metadata": {},
     "output_type": "execute_result"
    }
   ],
   "source": [
    "# datatype of the var1 is string"
   ]
  },
  {
   "cell_type": "code",
   "execution_count": 17,
   "id": "caab4700-6c28-4ced-9ac4-43a5c9b5205c",
   "metadata": {},
   "outputs": [],
   "source": [
    "var2 = '[DS,ML,Python]'"
   ]
  },
  {
   "cell_type": "code",
   "execution_count": 18,
   "id": "f25d41de-0fce-4971-8208-95a05c914b38",
   "metadata": {},
   "outputs": [
    {
     "data": {
      "text/plain": [
       "str"
      ]
     },
     "execution_count": 18,
     "metadata": {},
     "output_type": "execute_result"
    }
   ],
   "source": [
    "# datatype of the var2 is string"
   ]
  },
  {
   "cell_type": "code",
   "execution_count": 19,
   "id": "17932cd8-94f8-48e2-bf8f-417fb2bd21da",
   "metadata": {},
   "outputs": [],
   "source": [
    "var3 = ['DS','ML','Python']"
   ]
  },
  {
   "cell_type": "code",
   "execution_count": 20,
   "id": "c4110df9-9b05-42fd-91b7-e1d61b4fbc7e",
   "metadata": {},
   "outputs": [
    {
     "data": {
      "text/plain": [
       "list"
      ]
     },
     "execution_count": 20,
     "metadata": {},
     "output_type": "execute_result"
    }
   ],
   "source": [
    "type(var3)"
   ]
  },
  {
   "cell_type": "code",
   "execution_count": 21,
   "id": "0f4ebeb4-c17c-4d3c-bb33-16e34940ba02",
   "metadata": {},
   "outputs": [],
   "source": [
    "var4= 1"
   ]
  },
  {
   "cell_type": "code",
   "execution_count": 22,
   "id": "4cc8c048-89bb-49ae-b74b-5a8d659aed1b",
   "metadata": {},
   "outputs": [],
   "source": [
    "#database of the var4 is integer"
   ]
  },
  {
   "cell_type": "code",
   "execution_count": null,
   "id": "ee5204f3-d3b1-443d-a3f6-160e58c9bf88",
   "metadata": {},
   "outputs": [],
   "source": []
  },
  {
   "cell_type": "markdown",
   "id": "bba53cb3-b5cc-4acf-b89d-42a75728d8f7",
   "metadata": {},
   "source": [
    "Question 3"
   ]
  },
  {
   "cell_type": "code",
   "execution_count": 30,
   "id": "283a2a71-1c15-4ff3-926a-d32c47bc8bac",
   "metadata": {},
   "outputs": [],
   "source": [
    "a = 3/3 #division operator"
   ]
  },
  {
   "cell_type": "code",
   "execution_count": 28,
   "id": "7a969abf-c82c-4337-980b-7bc1178604e7",
   "metadata": {},
   "outputs": [],
   "source": [
    "b = 53%10 # modulus opretor it gives the remainder "
   ]
  },
  {
   "cell_type": "code",
   "execution_count": 35,
   "id": "6b0bc80c-7000-4473-bea2-b2c09b1de1b1",
   "metadata": {},
   "outputs": [],
   "source": [
    "c = 3432//3 # floor division method it gives the answer in the nearest possible integer"
   ]
  },
  {
   "cell_type": "code",
   "execution_count": 37,
   "id": "9a5424e7-93ef-4b39-b56e-5c8b0469c1ad",
   "metadata": {},
   "outputs": [],
   "source": [
    "d = 2**3 # it is 2 to the power 3 "
   ]
  },
  {
   "cell_type": "code",
   "execution_count": 38,
   "id": "4cd8feca-bd13-4ca6-bf92-f00c24f8c0bb",
   "metadata": {},
   "outputs": [
    {
     "data": {
      "text/plain": [
       "8"
      ]
     },
     "execution_count": 38,
     "metadata": {},
     "output_type": "execute_result"
    }
   ],
   "source": []
  },
  {
   "cell_type": "markdown",
   "id": "6a3fa254-76bb-4f33-9bcf-3bc94791260f",
   "metadata": {},
   "source": [
    "Question 4"
   ]
  },
  {
   "cell_type": "code",
   "execution_count": 44,
   "id": "f44f2797-bd89-496a-8088-b441b03183c3",
   "metadata": {},
   "outputs": [],
   "source": [
    "l = [\"om\", 343,34324,3453,234.3423,4342 + 2424j ,\"pewpew\",\"one direction\", 324,34234]"
   ]
  },
  {
   "cell_type": "code",
   "execution_count": 46,
   "id": "b2598de6-4207-4a94-b81d-4f089a16dfa1",
   "metadata": {},
   "outputs": [
    {
     "name": "stdout",
     "output_type": "stream",
     "text": [
      "om\n",
      "<class 'str'>\n",
      "343\n",
      "<class 'int'>\n",
      "34324\n",
      "<class 'int'>\n",
      "3453\n",
      "<class 'int'>\n",
      "234.3423\n",
      "<class 'float'>\n",
      "(4342+2424j)\n",
      "<class 'complex'>\n",
      "pewpew\n",
      "<class 'str'>\n",
      "one direction\n",
      "<class 'str'>\n",
      "324\n",
      "<class 'int'>\n",
      "34234\n",
      "<class 'int'>\n"
     ]
    }
   ],
   "source": [
    "for i in l :\n",
    "    print(i)\n",
    "    print(type(i))"
   ]
  },
  {
   "cell_type": "code",
   "execution_count": 47,
   "id": "501e73bc-fa07-4b46-a389-5d7bc5aa5f3c",
   "metadata": {},
   "outputs": [
    {
     "data": {
      "text/plain": [
       "list"
      ]
     },
     "execution_count": 47,
     "metadata": {},
     "output_type": "execute_result"
    }
   ],
   "source": [
    "type(l)"
   ]
  },
  {
   "cell_type": "code",
   "execution_count": null,
   "id": "cd3494f9-0244-479a-ac13-8c9a1a305029",
   "metadata": {},
   "outputs": [],
   "source": []
  },
  {
   "cell_type": "markdown",
   "id": "69353699-cc1e-4dea-baa3-7c04c8198fb6",
   "metadata": {},
   "source": [
    "Question 5"
   ]
  },
  {
   "cell_type": "code",
   "execution_count": 108,
   "id": "9ea59591-a3f3-4967-b8a9-791cca585bbb",
   "metadata": {},
   "outputs": [
    {
     "name": "stdin",
     "output_type": "stream",
     "text": [
      " 40\n"
     ]
    }
   ],
   "source": [
    "a = int(input())"
   ]
  },
  {
   "cell_type": "code",
   "execution_count": 109,
   "id": "ff96d592-1fcb-4b17-97fb-769aaceb64fd",
   "metadata": {},
   "outputs": [
    {
     "name": "stdin",
     "output_type": "stream",
     "text": [
      " 4\n"
     ]
    }
   ],
   "source": [
    "b = int(input()) "
   ]
  },
  {
   "cell_type": "code",
   "execution_count": 110,
   "id": "b4be6e7e-338c-4aad-b704-a88b69399524",
   "metadata": {},
   "outputs": [
    {
     "name": "stdout",
     "output_type": "stream",
     "text": [
      "10.0 number of times the number is divisible\n"
     ]
    }
   ],
   "source": [
    "while a%b==0 :\n",
    "    c=a/b\n",
    "\n",
    "    print( c ,\"number of times the number is divisible\") \n",
    "    break"
   ]
  },
  {
   "cell_type": "code",
   "execution_count": null,
   "id": "d71c240a-bc6b-4879-8671-0ef4b5af2297",
   "metadata": {},
   "outputs": [],
   "source": []
  },
  {
   "cell_type": "markdown",
   "id": "ad4d59f7-ef0f-4cc1-af4e-369625e83f10",
   "metadata": {},
   "source": [
    "Question 6"
   ]
  },
  {
   "cell_type": "code",
   "execution_count": 75,
   "id": "898d7635-9eba-49a2-bf74-70505824e1c7",
   "metadata": {},
   "outputs": [],
   "source": []
  },
  {
   "cell_type": "code",
   "execution_count": 76,
   "id": "7055fcd0-205d-42ee-bfab-06c1831b5b2f",
   "metadata": {},
   "outputs": [
    {
     "data": {
      "text/plain": [
       "range(0, 25)"
      ]
     },
     "execution_count": 76,
     "metadata": {},
     "output_type": "execute_result"
    }
   ],
   "source": [
    "range(0,25)"
   ]
  },
  {
   "cell_type": "code",
   "execution_count": 80,
   "id": "a7cdcf39-2dec-4110-afa2-e69a12f3363e",
   "metadata": {},
   "outputs": [
    {
     "data": {
      "text/plain": [
       "[0,\n",
       " 1,\n",
       " 2,\n",
       " 3,\n",
       " 4,\n",
       " 5,\n",
       " 6,\n",
       " 7,\n",
       " 8,\n",
       " 9,\n",
       " 10,\n",
       " 11,\n",
       " 12,\n",
       " 13,\n",
       " 14,\n",
       " 15,\n",
       " 16,\n",
       " 17,\n",
       " 18,\n",
       " 19,\n",
       " 20,\n",
       " 21,\n",
       " 22,\n",
       " 23,\n",
       " 24]"
      ]
     },
     "execution_count": 80,
     "metadata": {},
     "output_type": "execute_result"
    }
   ],
   "source": [
    " list(range(25))"
   ]
  },
  {
   "cell_type": "code",
   "execution_count": 105,
   "id": "7eaceb85-9eb6-46e6-8a2d-3e2bbe961ca7",
   "metadata": {},
   "outputs": [
    {
     "name": "stdout",
     "output_type": "stream",
     "text": [
      "0 is not divisible by 3\n",
      "1 is not divisible by 3\n",
      "2 is not divisible by 3\n",
      "3 is divisible by 3\n",
      "4 is not divisible by 3\n",
      "5 is not divisible by 3\n",
      "6 is divisible by 3\n",
      "7 is not divisible by 3\n",
      "8 is not divisible by 3\n",
      "9 is divisible by 3\n",
      "10 is not divisible by 3\n",
      "11 is not divisible by 3\n",
      "12 is divisible by 3\n",
      "13 is not divisible by 3\n",
      "14 is not divisible by 3\n",
      "15 is divisible by 3\n",
      "16 is not divisible by 3\n",
      "17 is not divisible by 3\n",
      "18 is divisible by 3\n",
      "19 is not divisible by 3\n",
      "20 is not divisible by 3\n",
      "21 is divisible by 3\n",
      "22 is not divisible by 3\n",
      "23 is not divisible by 3\n",
      "24 is divisible by 3\n"
     ]
    }
   ],
   "source": [
    "for i in list(range(25)):\n",
    "    if i % 3 == 0 and i !=0 :\n",
    "   \n",
    "        print(i,\"is divisible by 3\")\n",
    "    else:\n",
    "      \n",
    "        print(i ,\"is not divisible by 3\")"
   ]
  },
  {
   "cell_type": "code",
   "execution_count": null,
   "id": "fe86a4e7-c51a-4c90-a271-b80a0d3e117e",
   "metadata": {},
   "outputs": [],
   "source": []
  },
  {
   "cell_type": "markdown",
   "id": "4cd6c639-0842-4794-bf6a-a559404c0675",
   "metadata": {},
   "source": [
    "Question 7\n",
    " "
   ]
  },
  {
   "cell_type": "code",
   "execution_count": 111,
   "id": "50ddee4c-6fb6-4a9c-87be-e0990dd8075c",
   "metadata": {},
   "outputs": [],
   "source": [
    "#strings are immutable and lists are mutable"
   ]
  },
  {
   "cell_type": "code",
   "execution_count": 118,
   "id": "254f9d8a-9ee7-4717-9463-a93b0b96f225",
   "metadata": {},
   "outputs": [],
   "source": [
    "q =[\"pathu\",\"language\",343,345453,342.43234,'op']"
   ]
  },
  {
   "cell_type": "code",
   "execution_count": 119,
   "id": "b9ec28b3-5bce-4fc2-abcd-17dd49debc05",
   "metadata": {},
   "outputs": [
    {
     "data": {
      "text/plain": [
       "345453"
      ]
     },
     "execution_count": 119,
     "metadata": {},
     "output_type": "execute_result"
    }
   ],
   "source": [
    "q[3]"
   ]
  },
  {
   "cell_type": "code",
   "execution_count": 120,
   "id": "a75fb0e5-e46f-451e-8e04-90bd2f6343d1",
   "metadata": {},
   "outputs": [],
   "source": [
    "q[3]=\"bantai\""
   ]
  },
  {
   "cell_type": "code",
   "execution_count": 121,
   "id": "6fe5a136-2cf2-424d-b6c5-daf5de23224e",
   "metadata": {},
   "outputs": [
    {
     "data": {
      "text/plain": [
       "['pathu', 'language', 343, 'bantai', 342.43234, 'op']"
      ]
     },
     "execution_count": 121,
     "metadata": {},
     "output_type": "execute_result"
    }
   ],
   "source": [
    "q"
   ]
  },
  {
   "cell_type": "raw",
   "id": "826d2fc7-be46-4486-9002-dba8ca07ba0e",
   "metadata": {},
   "source": [
    "# here we can change the element of the lists "
   ]
  },
  {
   "cell_type": "code",
   "execution_count": 122,
   "id": "d802cc0f-c0a8-4314-841c-e2e91ba6e108",
   "metadata": {},
   "outputs": [],
   "source": [
    "s = \"sonam\""
   ]
  },
  {
   "cell_type": "code",
   "execution_count": 123,
   "id": "b3d9ff98-f699-4d24-8ceb-10c1234394ae",
   "metadata": {},
   "outputs": [
    {
     "data": {
      "text/plain": [
       "'s'"
      ]
     },
     "execution_count": 123,
     "metadata": {},
     "output_type": "execute_result"
    }
   ],
   "source": [
    "s[0]"
   ]
  },
  {
   "cell_type": "code",
   "execution_count": 124,
   "id": "138ea0ee-ff8d-426d-96e5-e20f93c3d8f0",
   "metadata": {},
   "outputs": [
    {
     "ename": "TypeError",
     "evalue": "'str' object does not support item assignment",
     "output_type": "error",
     "traceback": [
      "\u001b[0;31m---------------------------------------------------------------------------\u001b[0m",
      "\u001b[0;31mTypeError\u001b[0m                                 Traceback (most recent call last)",
      "Cell \u001b[0;32mIn[124], line 1\u001b[0m\n\u001b[0;32m----> 1\u001b[0m \u001b[43ms\u001b[49m\u001b[43m[\u001b[49m\u001b[38;5;241;43m0\u001b[39;49m\u001b[43m]\u001b[49m\u001b[38;5;241m=\u001b[39mt\n",
      "\u001b[0;31mTypeError\u001b[0m: 'str' object does not support item assignment"
     ]
    }
   ],
   "source": [
    "#s[0]=t   we cannot change the character in the string directly thats why it is immutable"
   ]
  },
  {
   "cell_type": "code",
   "execution_count": null,
   "id": "b87d6759-6340-41f9-9da6-f11220703fb9",
   "metadata": {},
   "outputs": [],
   "source": []
  }
 ],
 "metadata": {
  "kernelspec": {
   "display_name": "Python 3 (ipykernel)",
   "language": "python",
   "name": "python3"
  },
  "language_info": {
   "codemirror_mode": {
    "name": "ipython",
    "version": 3
   },
   "file_extension": ".py",
   "mimetype": "text/x-python",
   "name": "python",
   "nbconvert_exporter": "python",
   "pygments_lexer": "ipython3",
   "version": "3.10.8"
  }
 },
 "nbformat": 4,
 "nbformat_minor": 5
}
